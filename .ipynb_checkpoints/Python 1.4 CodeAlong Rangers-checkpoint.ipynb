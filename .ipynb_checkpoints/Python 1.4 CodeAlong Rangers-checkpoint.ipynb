{
 "cells": [
  {
   "cell_type": "markdown",
   "metadata": {},
   "source": [
    "# Object-Oriented-Programming (OOP)"
   ]
  },
  {
   "cell_type": "markdown",
   "metadata": {},
   "source": [
    "## Tasks Today:\n",
    "\n",
    "   \n",
    "\n",
    "1) <b>Creating a Class (Initializing/Declaring)</b> <br>\n",
    "2) <b>Using a Class (Instantiating)</b> <br>\n",
    " &nbsp;&nbsp;&nbsp;&nbsp; a) Creating One Instance <br>\n",
    " &nbsp;&nbsp;&nbsp;&nbsp; b) Creating Multiple Instances <br>\n",
    " &nbsp;&nbsp;&nbsp;&nbsp; c) In-Class Exercise #1 - Create a Class 'Car' and instantiate three different makes of cars <br>\n",
    "3) <b>The \\__init\\__() Method</b> <br>\n",
    " &nbsp;&nbsp;&nbsp;&nbsp; a) The 'self' Attribute <br>\n",
    "4) <b>Class Attributes</b> <br>\n",
    " &nbsp;&nbsp;&nbsp;&nbsp; a) Initializing Attributes <br>\n",
    " &nbsp;&nbsp;&nbsp;&nbsp; b) Setting an Attribute Outside of the \\__init\\__() Method <br>\n",
    " &nbsp;&nbsp;&nbsp;&nbsp; c) Setting Defaults for Attributes <br>\n",
    " &nbsp;&nbsp;&nbsp;&nbsp; d) Accessing Class Attributes <br>\n",
    " &nbsp;&nbsp;&nbsp;&nbsp; e) Changing Class Attributes <br>\n",
    " &nbsp;&nbsp;&nbsp;&nbsp; f) In-Class Exercise #2 - Add a color and wheels attribute to your 'Car' class <br>\n",
    "5) <b>Class Methods</b> <br>\n",
    " &nbsp;&nbsp;&nbsp;&nbsp; a) Creating <br>\n",
    " &nbsp;&nbsp;&nbsp;&nbsp; b) Calling <br>\n",
    " &nbsp;&nbsp;&nbsp;&nbsp; c) Modifying an Attribute's Value Through a Method <br>\n",
    " &nbsp;&nbsp;&nbsp;&nbsp; d) Incrementing an Attribute's Value Through a Method <br>\n",
    " &nbsp;&nbsp;&nbsp;&nbsp; e) In-Class Exercise #3 - Add a method that prints the cars color and wheel number, then call them <br>\n",
    "6) <b>Inheritance</b> <br>\n",
    " &nbsp;&nbsp;&nbsp;&nbsp; a) Syntax for Inheriting from a Parent Class <br>\n",
    " &nbsp;&nbsp;&nbsp;&nbsp; b) The \\__init\\__() Method for a Child Class (super()) <br>\n",
    " &nbsp;&nbsp;&nbsp;&nbsp; c) Defining Attributes and Methods for the Child Class <br>\n",
    " &nbsp;&nbsp;&nbsp;&nbsp; d) Method Overriding <br>\n",
    " &nbsp;&nbsp;&nbsp;&nbsp; e) In-Class Exercise #4 - Create a class 'Ford' that inherits from 'Car' class and initialize it as a Blue Ford Explorer with 4 wheels using the super() method <br>\n",
    "7) <b>Classes as Attributes</b> <br>\n",
    "8) <b>Exercises</b> <br>\n",
    " &nbsp;&nbsp;&nbsp;&nbsp; a) Exercise #1 - Turn the shopping cart program from yesterday into an object-oriented program <br>"
   ]
  },
  {
   "cell_type": "markdown",
   "metadata": {},
   "source": [
    "## Creating a Class (Initializing/Declaring)\n",
    "<p>When creating a class, function, or even a variable you are initializing that object. Initializing and Declaring occur at the same time in Python, whereas in lower level languages you have to declare an object before initializing it. This is the first step in the process of using a class.</p>"
   ]
  },
  {
   "cell_type": "code",
   "execution_count": 4,
   "metadata": {},
   "outputs": [],
   "source": [
    "# CLASSES are like programs in a folder that run, \n",
    "# or a blueprint (describes the car)\n",
    "# wheels and color are attributes (or variables) of class Car()\n",
    "\n",
    "class Car():\n",
    "    wheels = 4\n",
    "    color = 'blue'\n",
    "    windshield_wipers = \"wee woo wee woo\""
   ]
  },
  {
   "cell_type": "markdown",
   "metadata": {},
   "source": [
    "## Using a Class (Instantiating)\n",
    "<p>The process of creating a class is called <i>Instantiating</i>. Each time you create a variable of that type of class, it is referred to as an <i>Instance</i> of that class. This is the second step in the process of using a class.</p>"
   ]
  },
  {
   "cell_type": "markdown",
   "metadata": {},
   "source": [
    "##### Creating One Instance"
   ]
  },
  {
   "cell_type": "code",
   "execution_count": 4,
   "metadata": {},
   "outputs": [
    {
     "name": "stdout",
     "output_type": "stream",
     "text": [
      "blue\n",
      "wee woo wee woo\n"
     ]
    }
   ],
   "source": [
    "class Car():\n",
    "    wheels = 4\n",
    "    color = 'blue'\n",
    "    windshield_wipers = \"wee woo wee woo\"\n",
    "    \n",
    "# using blueprint to actually make an instance (making/creating the car)\n",
    "# ford now contains all of the data in class Car()\n",
    "\n",
    "# these are now instantiated so they're OBJECTS\n",
    "ford = Car()\n",
    "\n",
    "print(ford.color)\n",
    "print(ford.windshield_wipers)"
   ]
  },
  {
   "cell_type": "markdown",
   "metadata": {},
   "source": [
    "##### Creating Multiple Instances"
   ]
  },
  {
   "cell_type": "code",
   "execution_count": 5,
   "metadata": {},
   "outputs": [
    {
     "name": "stdout",
     "output_type": "stream",
     "text": [
      "<class 'str'>\n"
     ]
    }
   ],
   "source": [
    "class Car():\n",
    "    wheels = 4\n",
    "    color = 'blue'\n",
    "    windshield_wipers = \"wee woo wee woo\"\n",
    "\n",
    "chevrolet = Car()\n",
    "honda = Car()\n",
    "porsche = Car()\n",
    "\n",
    "print(type(porsche.color))\n",
    "\n",
    "# this below will result in an error because there is no variable (or attribute) bumper in the class\n",
    "# print(porsche.bumper)\n"
   ]
  },
  {
   "cell_type": "markdown",
   "metadata": {},
   "source": [
    "##### In-Class Exercise #1 - Create a Class 'Car' and Instantiate three different makes of cars"
   ]
  },
  {
   "cell_type": "code",
   "execution_count": 7,
   "metadata": {},
   "outputs": [
    {
     "name": "stdout",
     "output_type": "stream",
     "text": [
      "2\n",
      "white\n",
      "4\n"
     ]
    }
   ],
   "source": [
    "class Car():\n",
    "    doors = 2\n",
    "    color = \"white\"\n",
    "    wheels = 4\n",
    "    \n",
    "kia = Car()\n",
    "toyota = Car()\n",
    "subaru = Car()\n",
    "\n",
    "print(kia.doors)\n",
    "print(toyota.color)\n",
    "print(subaru.wheels)"
   ]
  },
  {
   "cell_type": "markdown",
   "metadata": {},
   "source": [
    "## The \\__init\\__() Method <br>\n",
    "<p>This method is used in almost every created class, and called only once upon the creation of the class instance. This method will initialize all variables needed for the object.</p>"
   ]
  },
  {
   "cell_type": "code",
   "execution_count": 14,
   "metadata": {},
   "outputs": [
    {
     "name": "stdout",
     "output_type": "stream",
     "text": [
      "black\n",
      "blue\n",
      "4\n",
      "6\n"
     ]
    }
   ],
   "source": [
    "# METHOD is a function inside of the class\n",
    "# called only once upon the creation of the class (automatic)\n",
    "\n",
    "# **Note** the below won't work because it doesn't have the __init__ and self\n",
    "# class Car():\n",
    "#     wheels = 4\n",
    "#     color = 'blue'\n",
    "#     windshield_wipers = \"wee woo wee woo\"\n",
    "    \n",
    "#     def headlights():\n",
    "#         print(\"Turn them on for safety, do not crash into a moose\")\n",
    "        \n",
    "# volkswagen = Car()\n",
    "# volkswagen.headlights()\n",
    "\n",
    "\n",
    "\n",
    "class Car():\n",
    "# engine is a global variable WITHIN class\n",
    "# any method (function) inside the class can call upon this variable (or attribute)\n",
    "    engine = \"4.7L\"\n",
    "    \n",
    "    def __init__(self, color, wheels):\n",
    "        self.color = color\n",
    "        self.wheels = wheels\n",
    "    \n",
    "# adding black and 4 to the init method, the self adds those attributes to the class Car() without\n",
    "# hardcoding inside of the class above\n",
    "# this is how we pass the data into the class\n",
    "# self is class Car()\n",
    "# mazda is OBJECT\n",
    "# the below includes the self process that connects it to the def __init__ above\n",
    "mazda = Car(\"black\", 4)\n",
    "subaru = Car(\"blue\", 6)\n",
    "\n",
    "print(mazda.color)\n",
    "print(subaru.color)\n",
    "print(mazda.wheels)\n",
    "print(subaru.wheels)"
   ]
  },
  {
   "cell_type": "markdown",
   "metadata": {},
   "source": [
    "##### The 'self' Attribute <br>\n",
    "<p>This attribute is required to keep track of specific instance's attributes. Without the self attribute, the program would not know how to reference or keep track of an instance's attributes.</p>"
   ]
  },
  {
   "cell_type": "code",
   "execution_count": null,
   "metadata": {},
   "outputs": [],
   "source": [
    "# see above\n",
    "# self is part of the __init__"
   ]
  },
  {
   "cell_type": "markdown",
   "metadata": {},
   "source": [
    "## Class Attributes <br>\n",
    "<p>While variables are inside of a class, they are referred to as attributes and not variables. When someone says 'attribute' you know they're speaking about a class. Attributes can be initialized through the init method, or outside of it.</p>"
   ]
  },
  {
   "cell_type": "markdown",
   "metadata": {},
   "source": [
    "##### Initializing Attributes"
   ]
  },
  {
   "cell_type": "code",
   "execution_count": null,
   "metadata": {},
   "outputs": [],
   "source": [
    "# see above\n",
    "# although classes contain variables, the variables are called ATTRIBUTES of the class\n",
    "# if someone says attributes, they mean variables of class\n",
    "\n",
    "class Toy():\n",
    "# kind is called a constant (global variable, attribute, hardcoded\n",
    "    kind = \"car\"\n",
    "\n",
    "#   method\n",
    "    def __init__(self, rooftop, horn, wheels):\n",
    "#         attributes\n",
    "        self.rooftop = rooftop\n",
    "        self.horn = horn\n",
    "        self.wheels = wheels\n",
    "        \n",
    "# 1 rooftop, 1 horn, 4 wheels\n",
    "tonka_truck = Toy(1, 1, 4)\n",
    "# 2 rooftops, 3 horns, 8 wheels\n",
    "hotwheels_car = Toy(2, 3, 8)"
   ]
  },
  {
   "cell_type": "markdown",
   "metadata": {},
   "source": [
    "##### Accessing Class Attributes"
   ]
  },
  {
   "cell_type": "code",
   "execution_count": 15,
   "metadata": {
    "scrolled": true
   },
   "outputs": [
    {
     "data": {
      "text/plain": [
       "1"
      ]
     },
     "execution_count": 15,
     "metadata": {},
     "output_type": "execute_result"
    }
   ],
   "source": [
    "# See Above\n",
    "\n",
    "class Toy():\n",
    "# kind is called a constant (global variable, attribute, hardcoded\n",
    "    kind = \"car\"\n",
    "\n",
    "#   method\n",
    "    def __init__(self, rooftop, horn, wheels):\n",
    "#         attributes\n",
    "        self.rooftop = rooftop\n",
    "        self.horn = horn\n",
    "        self.wheels = wheels\n",
    "        \n",
    "# 1 rooftop, 1 horn, 4 wheels\n",
    "tonka_truck = Toy(1, 1, 4)\n",
    "# 2 rooftops, 3 horns, 8 wheels\n",
    "hotwheels_car = Toy(2, 3, 8)\n",
    "\n",
    "\n",
    "tonka_truck.rooftop\n",
    "hotwheels_car.wheels"
   ]
  },
  {
   "cell_type": "markdown",
   "metadata": {},
   "source": [
    "##### Setting Defaults for Attributes"
   ]
  },
  {
   "cell_type": "code",
   "execution_count": 16,
   "metadata": {},
   "outputs": [
    {
     "data": {
      "text/plain": [
       "'Blue'"
      ]
     },
     "execution_count": 16,
     "metadata": {},
     "output_type": "execute_result"
    }
   ],
   "source": [
    "class Car():\n",
    "#     constant\n",
    "    engine = \"4.7L\"\n",
    "    \n",
    "    def __init__(self, wheels):\n",
    "#         attributes\n",
    "        self.wheels = wheels\n",
    "        self.color = \"Blue\"\n",
    "        \n",
    "honda = Car(4)\n",
    "honda.color\n",
    "    "
   ]
  },
  {
   "cell_type": "markdown",
   "metadata": {},
   "source": [
    "##### Changing Class Attributes <br>\n",
    "<p>Keep in mind there are global class attributes and then there are attributes only available to each class instance which won't effect other classes.</p>"
   ]
  },
  {
   "cell_type": "code",
   "execution_count": 19,
   "metadata": {},
   "outputs": [
    {
     "name": "stdout",
     "output_type": "stream",
     "text": [
      "Before Change: Blue\n",
      "\n",
      "After Change: White\n",
      "Blue\n"
     ]
    }
   ],
   "source": [
    "class Car():\n",
    "#     constant\n",
    "    engine = \"4.7L\"\n",
    "    \n",
    "    def __init__(self, wheels):\n",
    "#         attributes\n",
    "        self.wheels = wheels\n",
    "        self.color = \"Blue\"\n",
    "\n",
    "honda = Car(4)\n",
    "honda.color\n",
    "\n",
    "jeep = Car(8)\n",
    "\n",
    "print(f\"Before Change: {jeep.color}\")\n",
    "\n",
    "jeep.color = \"White\"\n",
    "\n",
    "print(f\"\\nAfter Change: {jeep.color}\")\n",
    "\n",
    "print(honda.color)"
   ]
  },
  {
   "cell_type": "markdown",
   "metadata": {},
   "source": [
    "##### In-Class Exercise #2 - Add a doors and seats attribute to your 'Car' class then print out two different instances with different doors and seats"
   ]
  },
  {
   "cell_type": "code",
   "execution_count": 74,
   "metadata": {},
   "outputs": [
    {
     "name": "stdout",
     "output_type": "stream",
     "text": [
      "The Honda has 4 doors and 4 seats\n",
      "The Toyota has 2 doors and 3 seats\n"
     ]
    }
   ],
   "source": [
    "class Car():\n",
    "    \n",
    "#     constant\n",
    "    engine = \"4.7L\"\n",
    "\n",
    "# can also do def __init__(self, doors, seats = 4) and leave off the attribute below inside of the arguments\n",
    "    def __init__(self, wheels, doors, seats):\n",
    "#         attributes\n",
    "        self.wheels = wheels\n",
    "        self.color = \"Blue\"\n",
    "        self.doors = doors\n",
    "        self.seats = seats\n",
    "        \n",
    "honda = Car(4, 4, 4)\n",
    "print(f\"The Honda has {honda.doors} doors and {honda.seats} seats\")\n",
    "\n",
    "toyota = Car(4, 2, 3)\n",
    "print(f\"The Toyota has {toyota.doors} doors and {toyota.seats} seats\")"
   ]
  },
  {
   "cell_type": "markdown",
   "metadata": {},
   "source": [
    "## Class Methods <br>\n",
    "<p>While inside of a class, functions are referred to as 'methods'. If you hear someone mention methods, they're speaking about classes. Methods are essentially functions, but only callable on the instances of a class.</p>"
   ]
  },
  {
   "cell_type": "markdown",
   "metadata": {},
   "source": [
    "##### Creating"
   ]
  },
  {
   "cell_type": "code",
   "execution_count": 72,
   "metadata": {},
   "outputs": [
    {
     "name": "stdout",
     "output_type": "stream",
     "text": [
      "Clean\n"
     ]
    },
    {
     "data": {
      "text/plain": [
       "'Rock on, climber!'"
      ]
     },
     "execution_count": 72,
     "metadata": {},
     "output_type": "execute_result"
    }
   ],
   "source": [
    "class House():\n",
    "    \n",
    "# __init__ is as if it's the cloud, you have to upload it to have access\n",
    "\n",
    "    def __init__(self, wall, dishes):\n",
    "        self.wall = wall\n",
    "        self.dishes = dishes\n",
    "        \n",
    "# this is as if it's a computer, need \"self\" included in order to have access to the cloud above \n",
    "# NOTE: (self) not (self, dishes) so brandon_house.washDishes() doesn't need an argument to run\n",
    "\n",
    "    def washDishes(self):\n",
    "        if self.dishes.lower() == \"dirty\":\n",
    "            print(\"Clean\")\n",
    "#             return \"Clean\"\n",
    "\n",
    "# NOTE: (self, wall) not (self), needs an argument to run\n",
    "\n",
    "    def rockClimbingWall(self):\n",
    "        if self.wall.lower() == \"yes\":\n",
    "            return \"Rock on, climber!\"\n",
    "        else:\n",
    "            return \"Why on earth would you not want a rock climbing wall in your house?\"\n",
    "\n",
    "# this is just passing in the arguments, haven't actually ran the functions yet\n",
    "\n",
    "brandon_house = House(\"yes\", \"dirty\")\n",
    "\n",
    "# NOTE: (self) not (self, dishes) so brandon_house.washDishes() doesn't need an argument to run\n",
    "# NOTE: will only return something when the brandon_house.rockClimbingWall() isn't ran,\n",
    "# not sure if it doesn't run at all or process is overwritten by the next function\n",
    "# only happening when you use RETURN, if you use PRINT on the dishes, it will print Clean as well\n",
    "\n",
    "brandon_house.washDishes()\n",
    "\n",
    "# NOTE: (self, wall) not (self), needs an argument to run\n",
    "\n",
    "brandon_house.rockClimbingWall()"
   ]
  },
  {
   "cell_type": "code",
   "execution_count": null,
   "metadata": {},
   "outputs": [],
   "source": [
    "# another creating example\n",
    "\n",
    "class ShoppingBag():\n",
    "    \"\"\"\n",
    "        The shoppingBag class will hanve handles, capacity, and items to place inside.\n",
    "        \n",
    "        Attributes for the class:\n",
    "        - handles: expected to be an integer\n",
    "        - capacity: expected to be a string OR an integer\n",
    "        - items: expected to be a list\n",
    "    \"\"\"\n",
    "    \n",
    "    def __init__(self, handles, capacity, items):\n",
    "        self.handles = handles\n",
    "        self.capacity = capacity\n",
    "        self.items = items\n",
    "       \n",
    "    # method that shows the items in the ShoppingBag / this is our items list\n",
    "    def showShoppingBag(self):\n",
    "        if self.items == []:\n",
    "            print(\"Your bag is empty!\")\n",
    "        else:\n",
    "            print(\"You have items in your bag!\")\n",
    "            for item in self.items:\n",
    "                print(item)\n",
    "            \n",
    "#     show the capacity of ShoppingBag - how much room is left\n",
    "    def showCapacity(self):\n",
    "        print(f\"Your capacity is: {self.capacity} \")\n",
    "        \n",
    "#     add item(s) to the items list for the ShoppingBag\n",
    "    def addToShoppingBag(self):\n",
    "        products = input(\"What would you like to add? \")\n",
    "        if len(self.items) > self.capacity:\n",
    "            print(\"Your bag is full!\")\n",
    "        else:\n",
    "            self.items.append(products)\n",
    "        \n",
    "#     change the capacity of the ShoppingBag\n",
    "    def changeBagCapacity(self, capacity):\n",
    "        self.capacity = capacity\n",
    "        \n",
    "#     increase thye capacity of the ShoppingBag by a default amount that we set to 10,\n",
    "#     like asking to increase the size by ten but you put in a string that says \"books\", won't work, needs to be an integer\n",
    "    def increaseCapacity(self, changed_capacity = 10):\n",
    "        if self.capacity == isinstance(self.capacity, str):\n",
    "            print(\"We can't add that here\")\n",
    "        else:\n",
    "            self.capacity += changed_capacity\n",
    "            \n",
    "    \n",
    "    \n",
    "    "
   ]
  },
  {
   "cell_type": "markdown",
   "metadata": {},
   "source": [
    "##### Calling"
   ]
  },
  {
   "cell_type": "code",
   "execution_count": 21,
   "metadata": {},
   "outputs": [
    {
     "name": "stdout",
     "output_type": "stream",
     "text": [
      "What do you want to do? add/show/quit show\n",
      "Your bag is empty!\n",
      "What do you want to do? add/show/quit quit\n",
      "Your bag is empty!\n",
      "Thanks for shopping\n"
     ]
    }
   ],
   "source": [
    "# See Above (added the class to this cell to run in just this one and not two)\n",
    "\n",
    "class ShoppingBag():\n",
    "    \"\"\"\n",
    "        The shoppingBag class will hanve handles, capacity, and items to place inside.\n",
    "        \n",
    "        Attributes for the class:\n",
    "        - handles: expected to be an integer\n",
    "        - capacity: expected to be a string OR an integer\n",
    "        - items: expected to be a list\n",
    "    \"\"\"\n",
    "    \n",
    "    def __init__(self, handles, capacity, items):\n",
    "        self.handles = handles\n",
    "        self.capacity = capacity\n",
    "        self.items = items\n",
    "       \n",
    "    # method that shows the items in the ShoppingBag / this is our items list\n",
    "    def showShoppingBag(self):\n",
    "        if self.items == []:\n",
    "            print(\"Your bag is empty!\")\n",
    "        else:\n",
    "            print(\"You have items in your bag!\")\n",
    "            for item in self.items:\n",
    "                print(item)\n",
    "\n",
    "            \n",
    "#     show the capacity of ShoppingBag - how much room is left\n",
    "    def showCapacity(self):\n",
    "        print(f\"Your capacity is: {self.capacity} \")\n",
    "        \n",
    "#     add item(s) to the items list for the ShoppingBag\n",
    "    def addToShoppingBag(self):\n",
    "        products = input(\"What would you like to add? \")\n",
    "        if len(self.items) > self.capacity:\n",
    "            print(\"Your bag is full!\")\n",
    "        else:\n",
    "            self.items.append(products)\n",
    "        \n",
    "#     change the capacity of the ShoppingBag\n",
    "    def changeBagCapacity(self, capacity):\n",
    "        self.capacity = capacity\n",
    "        \n",
    "#     increase thye capacity of the ShoppingBag by a default amount that we set to 10,\n",
    "#     like asking to increase the size by ten but you put in a string that says \"books\", won't work, needs to be an integer\n",
    "    def increaseCapacity(self, changed_capacity = 10):\n",
    "        if self.capacity == isinstance(self.capacity, str):\n",
    "            print(\"We can't add that here\")\n",
    "        else:\n",
    "            self.capacity += changed_capacity\n",
    "            \n",
    "            \n",
    "            \n",
    "# So far, we've created the idea of a ShoppingBag; now we will actually instantiate and MAKE one,\n",
    "# and use it!\n",
    "\n",
    "\n",
    "# 2 handles, 10 capacity, empty list of items\n",
    "wholeFoods_bag = ShoppingBag(2, 10, [])\n",
    "\n",
    "# create a function to run the ShoppingBag methods on our wholeFoods_bag instance\n",
    "\n",
    "def run():\n",
    "    while True:\n",
    "        response = input(\"What do you want to do? add/show/quit \")\n",
    "        \n",
    "        if response.lower() == \"quit\":\n",
    "            wholeFoods_bag.showShoppingBag()\n",
    "            print(\"Thanks for shopping\")\n",
    "            break\n",
    "        elif response.lower() == \"add\":\n",
    "            wholeFoods_bag.addToShoppingBag()\n",
    "        elif response.lower() == \"show\":\n",
    "            wholeFoods_bag.showShoppingBag()\n",
    "        else:\n",
    "            print(\"Try another command\")\n",
    "            \n",
    "\n",
    "run()\n",
    "\n",
    "\n"
   ]
  },
  {
   "cell_type": "markdown",
   "metadata": {},
   "source": [
    "##### Modifying an Attribute's Value Through a Method"
   ]
  },
  {
   "cell_type": "code",
   "execution_count": 23,
   "metadata": {},
   "outputs": [
    {
     "name": "stdout",
     "output_type": "stream",
     "text": [
      "Your capacity is: 20 \n",
      "Capacity AFTER the change... \n",
      "Your capacity is: 40 \n"
     ]
    }
   ],
   "source": [
    "# class ShoppingBag():\n",
    "#     \"\"\"\n",
    "#         The shoppingBag class will hanve handles, capacity, and items to place inside.\n",
    "        \n",
    "#         Attributes for the class:\n",
    "#         - handles: expected to be an integer\n",
    "#         - capacity: expected to be a string OR an integer\n",
    "#         - items: expected to be a list\n",
    "#     \"\"\"\n",
    "    \n",
    "#     def __init__(self, handles, capacity, items):\n",
    "#         self.handles = handles\n",
    "#         self.capacity = capacity\n",
    "#         self.items = items\n",
    "       \n",
    "#     # method that shows the items in the ShoppingBag / this is our items list\n",
    "#     def showShoppingBag(self):\n",
    "#         if self.items == []:\n",
    "#             print(\"Your bag is empty!\")\n",
    "#         else:\n",
    "#             print(\"You have items in your bag!\")\n",
    "#             for item in self.items:\n",
    "#                 print(item)\n",
    "\n",
    "            \n",
    "# #     show the capacity of ShoppingBag - how much room is left\n",
    "#     def showCapacity(self):\n",
    "#         print(f\"Your capacity is: {self.capacity} \")\n",
    "        \n",
    "# #     add item(s) to the items list for the ShoppingBag\n",
    "#     def addToShoppingBag(self):\n",
    "#         products = input(\"What would you like to add? \")\n",
    "#         if len(self.items) > self.capacity:\n",
    "#             print(\"Your bag is full!\")\n",
    "#         else:\n",
    "#             self.items.append(products)\n",
    "        \n",
    "# #     change the capacity of the ShoppingBag\n",
    "#     def changeBagCapacity(self, capacity):\n",
    "#         self.capacity = capacity\n",
    "        \n",
    "# #     increase thye capacity of the ShoppingBag by a default amount that we set to 10,\n",
    "# #     like asking to increase the size by ten but you put in a string that says \"books\", won't work, needs to be an integer\n",
    "#     def increaseCapacity(self, changed_capacity = 10):\n",
    "#         if self.capacity == isinstance(self.capacity, str):\n",
    "#             print(\"We can't add that here\")\n",
    "#         else:\n",
    "#             self.capacity += changed_capacity\n",
    "            \n",
    "            \n",
    "            \n",
    "# # So far, we've created the idea of a ShoppingBag; now we will actually instantiate and MAKE one,\n",
    "# # and use it!\n",
    "\n",
    "\n",
    "# # 2 handles, 10 capacity, empty list of items\n",
    "# wholeFoods_bag = ShoppingBag(2, 10, [])\n",
    "\n",
    "# # create a function to run the ShoppingBag methods on our wholeFoods_bag instance\n",
    "\n",
    "# def run():\n",
    "#     while True:\n",
    "#         response = input(\"What do you want to do? add/show/quit \")\n",
    "        \n",
    "#         if response.lower() == \"quit\":\n",
    "#             wholeFoods_bag.showShoppingBag()\n",
    "#             print(\"Thanks for shopping\")\n",
    "#             break\n",
    "#         elif response.lower() == \"add\":\n",
    "#             wholeFoods_bag.addToShoppingBag()\n",
    "#         elif response.lower() == \"show\":\n",
    "#             wholeFoods_bag.showShoppingBag()\n",
    "#         else:\n",
    "#             print(\"Try another command\")\n",
    "            \n",
    "\n",
    "# run()\n",
    "\n",
    "\n",
    "\n",
    "# show the capacity\n",
    "\n",
    "wholeFoods_bag.showCapacity()\n",
    "print(\"Capacity AFTER the change... \")\n",
    "wholeFoods_bag.changeBagCapacity(40)\n",
    "wholeFoods_bag.showCapacity()\n",
    "\n"
   ]
  },
  {
   "cell_type": "markdown",
   "metadata": {},
   "source": [
    "##### Incrementing an Attribute's Value Through a Method"
   ]
  },
  {
   "cell_type": "code",
   "execution_count": 24,
   "metadata": {},
   "outputs": [
    {
     "name": "stdout",
     "output_type": "stream",
     "text": [
      "Your capacity is: 40 \n",
      "After increase: \n",
      "Your capacity is: 50 \n"
     ]
    }
   ],
   "source": [
    "wholeFoods_bag.showCapacity()\n",
    "print(\"After increase: \")\n",
    "\n",
    "# can use the increaseCapacity for if a customer is 5 away from hitting the the actual capacity,\n",
    "# increase it by ten to add more space but not too much, takes up less memory\n",
    "wholeFoods_bag.increaseCapacity()\n",
    "wholeFoods_bag.showCapacity()"
   ]
  },
  {
   "cell_type": "markdown",
   "metadata": {},
   "source": [
    "##### In-Class Exercise #3 - Add a method that takes in three parameters of year, doors and seats and prints out a formatted print statement with make, model, year, seats, and doors"
   ]
  },
  {
   "cell_type": "code",
   "execution_count": 24,
   "metadata": {},
   "outputs": [
    {
     "name": "stdout",
     "output_type": "stream",
     "text": [
      "This car is from 2019 and is a Ford Explorer and has 4 doors and 5 seats\n"
     ]
    }
   ],
   "source": [
    "# Create class with 2 paramters inside of the __init__ which are make and model\n",
    "\n",
    "# Inside of the Car class create a method that has 4 parameter in total (self,year,door,seats)\n",
    "\n",
    "# Output: This car is from 2019 and is a Ford Expolorer and has 4 doors and 5 seats\n",
    "\n",
    "\n",
    "class Car():\n",
    "    \n",
    "    def __init__(self, year, door, seats):\n",
    "        self.year = year\n",
    "        self.door = door\n",
    "        self.seats = seats\n",
    "        \n",
    "    def newCar(self):\n",
    "        print(f\"This car is from {self.year} and is a Ford Explorer and has {self.door} doors and {self.seats} seats\")\n",
    "       \n",
    "\n",
    "\n",
    "vehicle = Car(2019, 4, 5)\n",
    "\n",
    "def run():\n",
    "    vehicle.newCar()\n",
    "    \n",
    "        \n",
    "run()"
   ]
  },
  {
   "cell_type": "markdown",
   "metadata": {},
   "source": [
    "## Inheritance <br>\n",
    "<p>You can create a child-parent relationship between two classes by using inheritance. What this allows you to do is have overriding methods, but also inherit traits from the parent class. Think of it as an actual parent and child, the child will inherit the parent's genes, as will the classes in OOP</p>"
   ]
  },
  {
   "cell_type": "markdown",
   "metadata": {},
   "source": [
    "##### Syntax for Inheriting from a Parent Class"
   ]
  },
  {
   "cell_type": "code",
   "execution_count": 31,
   "metadata": {},
   "outputs": [
    {
     "name": "stdout",
     "output_type": "stream",
     "text": [
      "Bark\n",
      "Make some generic sound\n",
      "None\n",
      "9.8\n",
      "15\n"
     ]
    }
   ],
   "source": [
    "# Create a parent class called Animal\n",
    "\n",
    "class Animal():\n",
    "    acceleration = 9.8\n",
    "    \n",
    "    def __init__(self, name, species, legs = 4):\n",
    "        self.name = name\n",
    "        self.species = species\n",
    "        self.legs = legs\n",
    "        \n",
    "#     Generic Parent Method - This is not overriding anything\n",
    "    def makeSound(self):\n",
    "        print(\"Make some generic sound\")\n",
    "        \n",
    "\n",
    "        \n",
    "# No we are making our child class... Dog, adding Animal into the parameters to inherit the attributes\n",
    "class Dog(Animal):\n",
    "    speed = 15\n",
    "    \n",
    "    def printInfo(self):\n",
    "        print(f\"The dog has {self.speed} mph in speed and {self.acceleration} in acceleration\")\n",
    " \n",
    "# \n",
    "# Creation of our Grand-Child Class -- Mutt, add Dog because it'll pull from both Dog and Animal\n",
    "class Mutt(Dog):\n",
    "    color = \"Tan\"\n",
    "    \n",
    "#     override the ANIMAL class - using the Dog class to overwrite the __init__ from Animal\n",
    "#     even though Dog doesn't have an __init__\n",
    "    def __init__(self, name, species, eye_color, legs = 4):\n",
    "#       using Dog. because we're overwriting with Dog, pulling it in with class Mutt(Dog)\n",
    "#       this is like creating an __init__ for class Dog\n",
    "        Dog.__init__(self, name, species, legs)\n",
    "        self.eye_color = eye_color\n",
    "        \n",
    "# override the makeSound method (which is coming from... ANIMAL), pulled from Dog, pulled from Animal\n",
    "    def makeSound(self):\n",
    "        noise = \"Bark\"\n",
    "        return noise\n",
    "    \n",
    "# pulls from class Dog    \n",
    "lassie = Dog(\"Lassie\", \"Dog\")\n",
    "\n",
    "basic_animal = Animal(\"Generic Animal Name\", \"Generic Animal Species\")\n",
    "\n",
    "# pulls from class Mutt\n",
    "buster = Mutt(\"Buster\", \"Mut\", \"Brown\")\n",
    "\n",
    "# pulls from overwritten in class Mutt\n",
    "print(buster.makeSound())\n",
    "\n",
    "# pulls from original class Dog which pulls from Animal\n",
    "print(lassie.makeSound())\n",
    "\n",
    "print(buster.acceleration)\n",
    "\n",
    "# # below won't work because speed in in child Dog but no in parent Animal\n",
    "# print(animal.speed)\n",
    "\n",
    "# pulls from class Mutt which pulls from class Dog\n",
    "print(buster.speed)"
   ]
  },
  {
   "cell_type": "markdown",
   "metadata": {},
   "source": [
    "##### The \\__init\\__() Method for a Child Class - super()"
   ]
  },
  {
   "cell_type": "code",
   "execution_count": 33,
   "metadata": {
    "scrolled": true
   },
   "outputs": [
    {
     "name": "stdout",
     "output_type": "stream",
     "text": [
      "Bark\n",
      "Make some generic sound\n",
      "None\n",
      "9.8\n",
      "15\n"
     ]
    }
   ],
   "source": [
    "# same as above but added another class with super(), does the same thing\n",
    "# super() goes to the top of the classes, in this case Animal\n",
    "\n",
    "# Create a parent class called Animal\n",
    "\n",
    "class Animal():\n",
    "    acceleration = 9.8\n",
    "    \n",
    "    def __init__(self, name, species, legs = 4):\n",
    "        self.name = name\n",
    "        self.species = species\n",
    "        self.legs = legs\n",
    "        \n",
    "#     Generic Parent Method - This is not overriding anything\n",
    "    def makeSound(self):\n",
    "        print(\"Make some generic sound\")\n",
    "        \n",
    "\n",
    "        \n",
    "# No we are making our child class... Dog, adding Animal into the parameters to inherit the attributes\n",
    "class Dog(Animal):\n",
    "    speed = 15\n",
    "    \n",
    "    def printInfo(self):\n",
    "        print(f\"The dog has {self.speed} mph in speed and {self.acceleration} in acceleration\")\n",
    " \n",
    "# \n",
    "# Creation of our Grand-Child Class -- Mutt, add Dog because it'll pull from both Dog and Animal\n",
    "class Mutt(Dog):\n",
    "    color = \"Tan\"\n",
    "    \n",
    "#     override the ANIMAL class - using the Dog class to overwrite the __init__ from Animal\n",
    "#     even though Dog doesn't have an __init__\n",
    "    def __init__(self, name, species, eye_color, legs = 4):\n",
    "#       using Dog. because we're overwriting with Dog, pulling it in with class Mutt(Dog)\n",
    "#       this is like creating an __init__ for class Dog\n",
    "        Dog.__init__(self, name, species, legs)\n",
    "        self.eye_color = eye_color\n",
    "        \n",
    "# override the makeSound method (which is coming from... ANIMAL), pulled from Dog, pulled from Animal\n",
    "    def makeSound(self):\n",
    "        noise = \"Bark\"\n",
    "        return noise\n",
    "\n",
    "    \n",
    "    \n",
    "class Puppy(Dog):\n",
    "    color = \"black and brown\"\n",
    "    \n",
    "#     override the Animal class __init__ (via Dog class)\n",
    "    def __init__(self, name, species, eye_color, legs = 4):\n",
    "        super().__init__(name, species, legs)\n",
    "        self.eye_color = eye_color\n",
    "        \n",
    "#     override the makeSound method from the Animal class\n",
    "    def makeSound(self):\n",
    "        noise = \"Bark\"\n",
    "        return noise\n",
    "    \n",
    "    \n",
    "    \n",
    "# pulls from class Dog    \n",
    "lassie = Dog(\"Lassie\", \"Dog\")\n",
    "\n",
    "basic_animal = Animal(\"Generic Animal Name\", \"Generic Animal Species\")\n",
    "\n",
    "# pulls from class Mutt\n",
    "buster = Mutt(\"Buster\", \"Mut\", \"Brown\")\n",
    "\n",
    "# pulls from overwritten in class Mutt\n",
    "print(buster.makeSound())\n",
    "\n",
    "# pulls from original class Dog which pulls from Animal\n",
    "print(lassie.makeSound())\n",
    "\n",
    "print(buster.acceleration)\n",
    "\n",
    "# # below won't work because speed in in child Dog but no in parent Animal\n",
    "# print(animal.speed)\n",
    "\n",
    "# pulls from class Mutt which pulls from class Dog\n",
    "print(buster.speed)   "
   ]
  },
  {
   "cell_type": "markdown",
   "metadata": {},
   "source": [
    "##### Defining Attributes and Methods for the Child Class"
   ]
  },
  {
   "cell_type": "code",
   "execution_count": null,
   "metadata": {},
   "outputs": [],
   "source": [
    "# See Above"
   ]
  },
  {
   "cell_type": "markdown",
   "metadata": {},
   "source": [
    "##### Method Overriding"
   ]
  },
  {
   "cell_type": "code",
   "execution_count": null,
   "metadata": {},
   "outputs": [],
   "source": [
    "# See Above"
   ]
  },
  {
   "cell_type": "markdown",
   "metadata": {},
   "source": [
    "## Classes as Attributes <br>\n",
    "<p>Classes can also be used as attributes within another class. This is useful in situations where you need to keep variables locally stored, instead of globally stored.</p>"
   ]
  },
  {
   "cell_type": "code",
   "execution_count": 37,
   "metadata": {},
   "outputs": [
    {
     "name": "stdout",
     "output_type": "stream",
     "text": [
      "20\n"
     ]
    },
    {
     "data": {
      "text/plain": [
       "'2019 Tesla Model X 20'"
      ]
     },
     "execution_count": 37,
     "metadata": {},
     "output_type": "execute_result"
    }
   ],
   "source": [
    "class Battery():\n",
    "    volts = 7.8\n",
    "    \n",
    "    def __init__(self, cells):\n",
    "        self.cells = cells\n",
    "        \n",
    "\n",
    "class Car():\n",
    "    def __init__(self, year, make, model, battery):\n",
    "        self.year = year\n",
    "        self.make = make\n",
    "        self.model = model\n",
    "        self.battery = battery\n",
    "        \n",
    "#   the {self.battery.cells} is not a method because it doesn't exist, cells is instead it's an attribute\n",
    "#   so we'll have to add a value to cells and then pull from the Battery def __init__\n",
    "    def printInfo(self):\n",
    "        return f\"{self.year} {self.make} {self.model} {self.battery.cells}\"\n",
    "            \n",
    "#   adding 20 to the cells\n",
    "my_battery = Battery(20)\n",
    "\n",
    "tesla = Car(2019, \"Tesla\", \"Model X\", my_battery)\n",
    "\n",
    "print(tesla.battery.cells)\n",
    "tesla.printInfo()"
   ]
  },
  {
   "cell_type": "markdown",
   "metadata": {},
   "source": [
    "# Exercises"
   ]
  },
  {
   "cell_type": "markdown",
   "metadata": {},
   "source": [
    "### Exercise 1 - Turn the shopping cart program from yesterday into an object-oriented program\n",
    "\n",
    "The comments in the cell below are there as a guide for thinking about the problem. However, if you feel a different way is best for you and your own thought process, please do what feels best for you by all means."
   ]
  },
  {
   "cell_type": "code",
   "execution_count": 8,
   "metadata": {},
   "outputs": [
    {
     "name": "stdout",
     "output_type": "stream",
     "text": [
      "What would you want to do? Show/Add/Delete/Quit? show\n",
      "Your bag is empty!\n",
      "What would you want to do? Show/Add/Delete/Quit? add\n",
      "What would you like to add? apples\n",
      "What would you want to do? Show/Add/Delete/Quit? quit\n",
      "You have items in your bag!\n",
      "apples\n",
      "Thanks for shopping\n"
     ]
    }
   ],
   "source": [
    "# Create a class called cart that retains items and has methods to add, remove, and show\n",
    "\n",
    "class Cart():\n",
    "    \n",
    "#     items is the list\n",
    "    def __init__(self, items):\n",
    "        self.items = items\n",
    "    \n",
    "    def showItems(self):\n",
    "        if self.items == []:\n",
    "            print(\"Your bag is empty!\")\n",
    "        else:\n",
    "            print(\"You have items in your bag!\")\n",
    "            for item in self.items:\n",
    "                print(item)\n",
    "        \n",
    "    def addItems(self):\n",
    "        products = input(\"What would you like to add? \")\n",
    "        self.items.append(products)\n",
    "        \n",
    "    def deleteItems(self):\n",
    "        products = input(\"What would you like to remove? \")\n",
    "        self.items.remove(products)\n",
    "        \n",
    "\n",
    "modified_cart = Cart([])\n",
    "        \n",
    "   \n",
    "def run():\n",
    "    while True:\n",
    "        response = input(\"What would you want to do? Show/Add/Delete/Quit? \")\n",
    "        if response.lower() == \"quit\":\n",
    "            modified_cart.showItems()\n",
    "            print(\"Thanks for shopping\")\n",
    "            break\n",
    "        elif response.lower() == \"add\":\n",
    "            modified_cart.addItems()\n",
    "        elif response.lower() == \"delete\":\n",
    "            modified_cart.deleteItems()\n",
    "        elif response.lower() == \"show\":\n",
    "            modified_cart.showItems()\n",
    "        else:\n",
    "            print(\"Try another command\")\n",
    "\n",
    "            \n",
    "run()\n",
    "\n",
    "\n",
    "    \n",
    "# shopping_cart = []\n",
    "\n",
    "\n",
    "# for i in shopping_cart:\n",
    "#     answer = input(\"What would you like to do with your shopping cart? Show/Add/Delete or Quit? \")\n",
    "#     if answer == \"Quit\":\n",
    "#         print(shopping_cart)\n",
    "#         break\n",
    "#     if answer == \"Show\":\n",
    "#         print(shopping_cart)\n",
    "#     if answer == \"Add\":\n",
    "#         item = input(\"What item would you like to add? \")\n",
    "#         shopping_cart.append(item)\n",
    "#     if answer == \"Delete\":\n",
    "#         item = input(\"What item would you like to remove? \")\n",
    "#         shopping_cart.remove(item)\n",
    "    "
   ]
  },
  {
   "cell_type": "markdown",
   "metadata": {},
   "source": [
    "### Exercise 2 - Write a Python class which has two methods get_String and print_String. get_String accept a string from the user and print_String print the string in upper case"
   ]
  },
  {
   "cell_type": "code",
   "execution_count": 4,
   "metadata": {},
   "outputs": [
    {
     "name": "stdout",
     "output_type": "stream",
     "text": [
      "Write what you want to print... meh\n",
      "{'MEH'}\n"
     ]
    }
   ],
   "source": [
    "class Take():\n",
    "\n",
    "    def __init__(self, response):\n",
    "        self.response = response\n",
    " \n",
    "    def get_String(self):\n",
    "        self.response = input(\"Write what you want to print... \")\n",
    "           \n",
    "    def print_String(self):\n",
    "        print({self.response.upper()})\n",
    "\n",
    "modified_response = Take(\"\")\n",
    "\n",
    "def run():\n",
    "    modified_response.get_String()\n",
    "    modified_response.print_String()\n",
    "        \n",
    "run()\n",
    "        "
   ]
  },
  {
   "cell_type": "code",
   "execution_count": null,
   "metadata": {
    "scrolled": true
   },
   "outputs": [],
   "source": [
    "class ParkingGarage():\n",
    "    \n",
    "\n",
    "    def __init__(self, availableTickets, usedTickets, availableParkingSpaces, usedParkingSpaces, currentTicket):\n",
    "        self.availableTickets = availableTickets\n",
    "        self.usedTickets = usedTickets\n",
    "        self.availableParkingSpaces = availableParkingSpaces\n",
    "        self.usedParkingSpaces = usedParkingSpaces\n",
    "        self.currentTicket = currentTicket\n",
    "        \n",
    "    def takeTicket(self, availableTickets, usedTickets, availableParkingSpaces, usedParkingSpaces, currentTicket):\n",
    "        if self.availableTickets == []:\n",
    "            print(f\"There are no available parking spaces\")\n",
    "        else:\n",
    "            print(f\"Available Tickets: {self.availableTickets}\")\n",
    "            print(f\"Available Parking Spaces: {self.availableParkingSpaces}\")\n",
    "            self.usedTickets.append(self.availableTickets.pop())\n",
    "            self.usedParkingSpaces.append(self.availableParkingSpaces.pop())\n",
    "            print(f\"Remaining Available Tickets: {self.availableTickets}\")\n",
    "            print(f\"Remaining Available Parking Spaces: {self.availableParkingSpaces}\")\n",
    "            print(f\"Used Tickets: {self.usedTickets}\")\n",
    "            print(f\"Used Parking Spaces: {self.usedParkingSpaces}\")\n",
    "            self.currentTicket[\"paid\"] = \"false\"\n",
    "            print(f'Paid: {currentTicket[\"paid\"]}')\n",
    "    \n",
    "    def payTicket(self, availableTickets, usedTickets, availableParkingSpaces, usedParkingSpaces, currentTicket):\n",
    "        prompt = input(f\"Which ticket would you like to pay? : {self.usedTickets}\")\n",
    "        if prompt in self.usedTickets:\n",
    "            self.availableTickets.append(self.usedTickets.pop())\n",
    "            self.availableParkingSpaces.append(self.usedParkingSpaces.pop())\n",
    "            print(f\"Available Tickets: {self.availableTickets}\")\n",
    "            print(f\"Available Parking Spaces: {self.availableParkingSpaces}\")\n",
    "            print(f\"Remaining Available Tickets: {self.availableTickets}\")\n",
    "            print(f\"Remaining Available Parking Spaces: {self.availableParkingSpaces}\")\n",
    "            print(f\"Used Tickets: {self.usedTickets}\")\n",
    "            print(f\"Used Parking Spaces: {self.usedParkingSpaces}\")\n",
    "            self.currentTicket[\"paid\"] = \"true\"\n",
    "            print(f'Paid: {currentTicket[\"paid\"]}')\n",
    "            print(\"Thank you for your payment and have a nice day! You have 15 minutes to leave the garage\")\n",
    "        else:\n",
    "            print(\"Your ticket is already paid\")\n",
    "        \n",
    "\n",
    "user_Tickets = ParkingGarage([\"1\", \"2\", \"3\", \"4\", \"5\"], [], [\"1\", \"2\", \"3\", \"4\", \"5\"], [], {\"paid\": \"true\", \"paid\": \"false\"})\n",
    "\n",
    "\n",
    "def run():\n",
    "    while True:\n",
    "        prompt = input(\"What would you like to do with a ticket? Take/Pay \")\n",
    "        if prompt == \"take\":\n",
    "            user_Tickets.takeTicket(\"\", \"\", \"\", \"\", {\"paid\": \"false\"})\n",
    "        elif prompt == \"pay\":\n",
    "            user_Tickets.payTicket(\"\", \"\", \"\", \"\", {\"paid\": \"true\"})\n",
    "        \n",
    "        \n",
    "run()\n",
    "\n",
    "\n",
    "\n",
    "\n",
    "\n",
    "\n",
    "\n",
    "\n",
    "\n",
    "\n",
    "\n"
   ]
  },
  {
   "cell_type": "code",
   "execution_count": null,
   "metadata": {},
   "outputs": [],
   "source": []
  }
 ],
 "metadata": {
  "kernelspec": {
   "display_name": "Python 3 (ipykernel)",
   "language": "python",
   "name": "python3"
  },
  "language_info": {
   "codemirror_mode": {
    "name": "ipython",
    "version": 3
   },
   "file_extension": ".py",
   "mimetype": "text/x-python",
   "name": "python",
   "nbconvert_exporter": "python",
   "pygments_lexer": "ipython3",
   "version": "3.9.13"
  }
 },
 "nbformat": 4,
 "nbformat_minor": 2
}
